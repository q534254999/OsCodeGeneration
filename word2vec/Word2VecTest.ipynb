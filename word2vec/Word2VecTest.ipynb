{
 "cells": [
  {
   "cell_type": "code",
   "execution_count": 2,
   "metadata": {},
   "outputs": [],
   "source": [
    "from gensim.models import Word2Vec\n",
    "import logging"
   ]
  },
  {
   "cell_type": "code",
   "execution_count": 3,
   "metadata": {},
   "outputs": [],
   "source": [
    "# enable log\n",
    "logging.basicConfig(format='%(asctime)s : %(levelname)s : %(message)s', level=logging.INFO)"
   ]
  },
  {
   "cell_type": "code",
   "execution_count": 4,
   "metadata": {},
   "outputs": [
    {
     "name": "stderr",
     "output_type": "stream",
     "text": [
      "2019-11-06 16:03:57,209 : INFO : loading Word2Vec object from w2v.model\n",
      "2019-11-06 16:03:57,722 : INFO : loading wv recursively from w2v.model.wv.* with mmap=None\n",
      "2019-11-06 16:03:57,722 : INFO : setting ignored attribute vectors_norm to None\n",
      "2019-11-06 16:03:57,722 : INFO : loading vocabulary recursively from w2v.model.vocabulary.* with mmap=None\n",
      "2019-11-06 16:03:57,722 : INFO : loading trainables recursively from w2v.model.trainables.* with mmap=None\n",
      "2019-11-06 16:03:57,722 : INFO : setting ignored attribute cum_table to None\n",
      "2019-11-06 16:03:57,726 : INFO : loaded w2v.model\n"
     ]
    }
   ],
   "source": [
    "# test\n",
    "model_test = Word2Vec.load('w2v.model')"
   ]
  },
  {
   "cell_type": "code",
   "execution_count": 5,
   "metadata": {},
   "outputs": [
    {
     "name": "stdout",
     "output_type": "stream",
     "text": [
      "[-2.2590618   0.6351938  -1.6198694   0.96806484 -1.0048171   0.96262735\n",
      "  0.27203095  1.9481144   1.9864366   0.3731358  -1.0689657  -0.25571075\n",
      " -0.85200006 -2.576153    4.0720754  -1.7807091  -0.72071207 -0.13709812\n",
      "  0.5548092   0.3495218  -0.22327381  2.0013723   1.2707256   1.3689833\n",
      " -2.6222534   1.412648    0.50261766  2.2569427  -0.81555384  2.7064607\n",
      " -1.0681627   1.0406165  -1.0194697  -1.4072084  -1.4945809   1.9147931\n",
      " -1.0966473  -2.4113698  -2.750689    3.81141     0.29385558  2.695491\n",
      " -0.6613386   1.813293   -4.3259225   1.3179885  -1.3248091   1.339349\n",
      "  0.5547375   1.8028      1.2943566  -2.7097573  -2.0018914  -3.8925307\n",
      "  0.84627414  0.7732564   0.5352498  -1.9584953   1.2530504   0.7176187\n",
      "  0.2983504   0.92785794 -2.2062082   0.3706265   1.1019205  -0.75609255\n",
      "  2.8066375   0.06050426 -0.57328385 -0.8359341   0.89820164 -0.48675528\n",
      "  0.63766956 -1.559823   -2.3407743   0.4601591   1.6971792   0.54213375\n",
      "  0.9845744  -0.9561211   4.0984473  -0.4058128   1.0724678  -0.06883512\n",
      " -0.40140957 -0.7015517  -1.5257735  -1.3837543   3.8168206   2.382584\n",
      "  1.5733725   0.1863052   0.88469374 -1.7951915   1.4962139   0.3512934\n",
      " -1.3707942  -0.24708465  0.17909907 -0.03957419]\n"
     ]
    }
   ],
   "source": [
    "# use word2vec to get vector of word, 100 dimensions\n",
    "vector = model_test.wv.__getitem__('computer')\n",
    "print(vector)"
   ]
  },
  {
   "cell_type": "code",
   "execution_count": 9,
   "metadata": {},
   "outputs": [
    {
     "name": "stdout",
     "output_type": "stream",
     "text": [
      "[('computer', 0.9999998807907104)]\n"
     ]
    }
   ],
   "source": [
    "# use this method to get the word from vector\n",
    "word = model_test.wv.similar_by_vector(vector,topn=1)\n",
    "print(word)"
   ]
  },
  {
   "cell_type": "code",
   "execution_count": 7,
   "metadata": {},
   "outputs": [
    {
     "data": {
      "text/plain": [
       "0.74010813"
      ]
     },
     "execution_count": 7,
     "metadata": {},
     "output_type": "execute_result"
    }
   ],
   "source": [
    "# test similarity\n",
    "model_test.wv.similarity('woman', 'man')"
   ]
  },
  {
   "cell_type": "code",
   "execution_count": 8,
   "metadata": {},
   "outputs": [
    {
     "data": {
      "text/plain": [
       "[('woman', 0.7401081323623657),\n",
       " ('girl', 0.6423241496086121),\n",
       " ('creature', 0.5867471098899841),\n",
       " ('stranger', 0.5794174671173096),\n",
       " ('person', 0.5738580822944641),\n",
       " ('thief', 0.5493309497833252),\n",
       " ('god', 0.5491046905517578),\n",
       " ('boy', 0.5467256307601929),\n",
       " ('gentleman', 0.5426057577133179),\n",
       " ('lover', 0.5209705233573914)]"
      ]
     },
     "execution_count": 8,
     "metadata": {},
     "output_type": "execute_result"
    }
   ],
   "source": [
    "# test similarity\n",
    "model_test.wv.most_similar(['man'])"
   ]
  },
  {
   "cell_type": "code",
   "execution_count": null,
   "metadata": {},
   "outputs": [],
   "source": []
  }
 ],
 "metadata": {
  "kernelspec": {
   "display_name": "Python 3",
   "language": "python",
   "name": "python3"
  },
  "language_info": {
   "codemirror_mode": {
    "name": "ipython",
    "version": 3
   },
   "file_extension": ".py",
   "mimetype": "text/x-python",
   "name": "python",
   "nbconvert_exporter": "python",
   "pygments_lexer": "ipython3",
   "version": "3.7.4"
  }
 },
 "nbformat": 4,
 "nbformat_minor": 2
}
