{
 "cells": [
  {
   "cell_type": "code",
   "execution_count": 5,
   "metadata": {},
   "outputs": [],
   "source": [
    "from gensim.models import Word2Vec\n",
    "import logging"
   ]
  },
  {
   "cell_type": "code",
   "execution_count": 6,
   "metadata": {},
   "outputs": [],
   "source": [
    "# enable log\n",
    "logging.basicConfig(format='%(asctime)s : %(levelname)s : %(message)s', level=logging.INFO)"
   ]
  },
  {
   "cell_type": "code",
   "execution_count": 7,
   "metadata": {},
   "outputs": [
    {
     "name": "stderr",
     "output_type": "stream",
     "text": [
      "2019-11-05 10:00:02,291 : INFO : loading Word2Vec object from w2v.model\n",
      "2019-11-05 10:00:02,752 : INFO : loading wv recursively from w2v.model.wv.* with mmap=None\n",
      "2019-11-05 10:00:02,752 : INFO : setting ignored attribute vectors_norm to None\n",
      "2019-11-05 10:00:02,752 : INFO : loading vocabulary recursively from w2v.model.vocabulary.* with mmap=None\n",
      "2019-11-05 10:00:02,752 : INFO : loading trainables recursively from w2v.model.trainables.* with mmap=None\n",
      "2019-11-05 10:00:02,752 : INFO : setting ignored attribute cum_table to None\n",
      "2019-11-05 10:00:02,752 : INFO : loaded w2v.model\n"
     ]
    }
   ],
   "source": [
    "# test\n",
    "model_test = Word2Vec.load('w2v.model')\n",
    "#model1.most_similar(positive=['woman', 'king'], negative=['man'], topn=1)\n",
    "#print(model1.most_similar(positive=['car', 'minivan'], topn=5))"
   ]
  },
  {
   "cell_type": "code",
   "execution_count": 8,
   "metadata": {},
   "outputs": [
    {
     "name": "stderr",
     "output_type": "stream",
     "text": [
      "D:\\Anaconda\\envs\\tensorflow\\lib\\site-packages\\ipykernel_launcher.py:2: DeprecationWarning: Call to deprecated `__getitem__` (Method will be removed in 4.0.0, use self.wv.__getitem__() instead).\n",
      "  \n"
     ]
    },
    {
     "data": {
      "text/plain": [
       "array([-2.2590618 ,  0.6351938 , -1.6198694 ,  0.96806484, -1.0048171 ,\n",
       "        0.96262735,  0.27203095,  1.9481144 ,  1.9864366 ,  0.3731358 ,\n",
       "       -1.0689657 , -0.25571075, -0.85200006, -2.576153  ,  4.0720754 ,\n",
       "       -1.7807091 , -0.72071207, -0.13709812,  0.5548092 ,  0.3495218 ,\n",
       "       -0.22327381,  2.0013723 ,  1.2707256 ,  1.3689833 , -2.6222534 ,\n",
       "        1.412648  ,  0.50261766,  2.2569427 , -0.81555384,  2.7064607 ,\n",
       "       -1.0681627 ,  1.0406165 , -1.0194697 , -1.4072084 , -1.4945809 ,\n",
       "        1.9147931 , -1.0966473 , -2.4113698 , -2.750689  ,  3.81141   ,\n",
       "        0.29385558,  2.695491  , -0.6613386 ,  1.813293  , -4.3259225 ,\n",
       "        1.3179885 , -1.3248091 ,  1.339349  ,  0.5547375 ,  1.8028    ,\n",
       "        1.2943566 , -2.7097573 , -2.0018914 , -3.8925307 ,  0.84627414,\n",
       "        0.7732564 ,  0.5352498 , -1.9584953 ,  1.2530504 ,  0.7176187 ,\n",
       "        0.2983504 ,  0.92785794, -2.2062082 ,  0.3706265 ,  1.1019205 ,\n",
       "       -0.75609255,  2.8066375 ,  0.06050426, -0.57328385, -0.8359341 ,\n",
       "        0.89820164, -0.48675528,  0.63766956, -1.559823  , -2.3407743 ,\n",
       "        0.4601591 ,  1.6971792 ,  0.54213375,  0.9845744 , -0.9561211 ,\n",
       "        4.0984473 , -0.4058128 ,  1.0724678 , -0.06883512, -0.40140957,\n",
       "       -0.7015517 , -1.5257735 , -1.3837543 ,  3.8168206 ,  2.382584  ,\n",
       "        1.5733725 ,  0.1863052 ,  0.88469374, -1.7951915 ,  1.4962139 ,\n",
       "        0.3512934 , -1.3707942 , -0.24708465,  0.17909907, -0.03957419],\n",
       "      dtype=float32)"
      ]
     },
     "execution_count": 8,
     "metadata": {},
     "output_type": "execute_result"
    }
   ],
   "source": [
    "# use word2vec to get vector of word, 100 dimensions\n",
    "model_test['computer']"
   ]
  },
  {
   "cell_type": "code",
   "execution_count": 9,
   "metadata": {},
   "outputs": [
    {
     "name": "stderr",
     "output_type": "stream",
     "text": [
      "D:\\Anaconda\\envs\\tensorflow\\lib\\site-packages\\ipykernel_launcher.py:1: DeprecationWarning: Call to deprecated `similarity` (Method will be removed in 4.0.0, use self.wv.similarity() instead).\n",
      "  \"\"\"Entry point for launching an IPython kernel.\n"
     ]
    },
    {
     "data": {
      "text/plain": [
       "0.74010813"
      ]
     },
     "execution_count": 9,
     "metadata": {},
     "output_type": "execute_result"
    }
   ],
   "source": [
    "model_test.similarity('woman', 'man')"
   ]
  },
  {
   "cell_type": "code",
   "execution_count": 10,
   "metadata": {},
   "outputs": [
    {
     "name": "stderr",
     "output_type": "stream",
     "text": [
      "D:\\Anaconda\\envs\\tensorflow\\lib\\site-packages\\ipykernel_launcher.py:1: DeprecationWarning: Call to deprecated `most_similar` (Method will be removed in 4.0.0, use self.wv.most_similar() instead).\n",
      "  \"\"\"Entry point for launching an IPython kernel.\n",
      "2019-11-05 10:00:24,405 : INFO : precomputing L2-norms of word weight vectors\n"
     ]
    },
    {
     "data": {
      "text/plain": [
       "[('woman', 0.7401081323623657),\n",
       " ('girl', 0.6423241496086121),\n",
       " ('creature', 0.5867471098899841),\n",
       " ('stranger', 0.5794174671173096),\n",
       " ('person', 0.5738580822944641),\n",
       " ('thief', 0.5493309497833252),\n",
       " ('god', 0.5491046905517578),\n",
       " ('boy', 0.5467256307601929),\n",
       " ('gentleman', 0.5426057577133179),\n",
       " ('lover', 0.5209705233573914)]"
      ]
     },
     "execution_count": 10,
     "metadata": {},
     "output_type": "execute_result"
    }
   ],
   "source": [
    "model_test.most_similar(['man'])"
   ]
  }
 ],
 "metadata": {
  "kernelspec": {
   "display_name": "Python 3",
   "language": "python",
   "name": "python3"
  },
  "language_info": {
   "codemirror_mode": {
    "name": "ipython",
    "version": 3
   },
   "file_extension": ".py",
   "mimetype": "text/x-python",
   "name": "python",
   "nbconvert_exporter": "python",
   "pygments_lexer": "ipython3",
   "version": "3.7.4"
  }
 },
 "nbformat": 4,
 "nbformat_minor": 2
}
